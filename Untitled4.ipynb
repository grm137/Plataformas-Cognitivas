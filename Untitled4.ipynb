{
  "nbformat": 4,
  "nbformat_minor": 0,
  "metadata": {
    "colab": {
      "provenance": []
    },
    "kernelspec": {
      "name": "python3",
      "display_name": "Python 3"
    },
    "language_info": {
      "name": "python"
    }
  },
  "cells": [
    {
      "cell_type": "code",
      "execution_count": null,
      "metadata": {
        "id": "6NvL4J-W2vX2"
      },
      "outputs": [],
      "source": [
        "import requests"
      ]
    },
    {
      "cell_type": "markdown",
      "source": [],
      "metadata": {
        "id": "JjpQ5uk3NNqv"
      }
    },
    {
      "cell_type": "code",
      "source": [
        "cep = input('Digite seu cep: ')\n",
        "print(cep)"
      ],
      "metadata": {
        "id": "rA5GkABj21Qr",
        "colab": {
          "base_uri": "https://localhost:8080/"
        },
        "outputId": "a4c59ff4-b6ca-440c-b535-6fa9ff021b37"
      },
      "execution_count": null,
      "outputs": [
        {
          "output_type": "stream",
          "name": "stdout",
          "text": [
            "Digite seu cep: 01518000\n",
            "01518000\n"
          ]
        }
      ]
    },
    {
      "cell_type": "code",
      "source": [
        "resposta=requests.get(f'https://viacep.com.br/ws/{cep}/json/')\n",
        "print(resposta)\n",
        "resposta.json()"
      ],
      "metadata": {
        "colab": {
          "base_uri": "https://localhost:8080/"
        },
        "id": "6EUk_u8B3GNY",
        "outputId": "192f19d3-016c-4284-f1a8-ab635e19d3db"
      },
      "execution_count": null,
      "outputs": [
        {
          "output_type": "stream",
          "name": "stdout",
          "text": [
            "<Response [200]>\n"
          ]
        },
        {
          "output_type": "execute_result",
          "data": {
            "text/plain": [
              "{'cep': '01518-000',\n",
              " 'logradouro': 'Rua Justo Azambuja',\n",
              " 'complemento': '',\n",
              " 'bairro': 'Cambuci',\n",
              " 'localidade': 'São Paulo',\n",
              " 'uf': 'SP',\n",
              " 'ibge': '3550308',\n",
              " 'gia': '1004',\n",
              " 'ddd': '11',\n",
              " 'siafi': '7107'}"
            ]
          },
          "metadata": {},
          "execution_count": 13
        }
      ]
    },
    {
      "cell_type": "markdown",
      "source": [],
      "metadata": {
        "id": "9jbFEbDNNdYD"
      }
    },
    {
      "cell_type": "code",
      "source": [
        "import requests\n",
        "resposta=requests.get('https://api.nasa.gov/mars-photos/api/v1/rovers/curiosity/photos?sol=1000&api_key=z3UWVZNhxYBKXkGiwoNfUoeDhNaUAq1V2jJedkQp')\n",
        "\n",
        "foto=resposta.json()\n",
        "\n",
        "for a in foto[\"photos\"]:\n",
        "  print(a['img_src'])\n",
        "  continuar=input(\"Digite sim para mostrar a proxima imagem e não para parar: \")\n",
        "  if continuar ==\"não\":\n",
        "   break"
      ],
      "metadata": {
        "colab": {
          "base_uri": "https://localhost:8080/"
        },
        "id": "LYRXK0f4Ndlj",
        "outputId": "44f346ee-2d61-4269-ea08-e82cdfc62d32"
      },
      "execution_count": 5,
      "outputs": [
        {
          "name": "stdout",
          "output_type": "stream",
          "text": [
            "http://mars.jpl.nasa.gov/msl-raw-images/proj/msl/redops/ods/surface/sol/01000/opgs/edr/fcam/FLB_486265257EDR_F0481570FHAZ00323M_.JPG\n",
            "Digite sim para mostrar a proxima imagem e não para parar: sim\n",
            "http://mars.jpl.nasa.gov/msl-raw-images/proj/msl/redops/ods/surface/sol/01000/opgs/edr/fcam/FRB_486265257EDR_F0481570FHAZ00323M_.JPG\n",
            "Digite sim para mostrar a proxima imagem e não para parar: não\n"
          ]
        }
      ]
    }
  ]
}